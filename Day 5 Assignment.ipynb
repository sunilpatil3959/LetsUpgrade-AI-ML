{
 "cells": [
  {
   "cell_type": "markdown",
   "metadata": {},
   "source": [
    "Question 1 : Write a Python program to find the first 20 non-even prime natural numbers."
   ]
  },
  {
   "cell_type": "code",
   "execution_count": 2,
   "metadata": {},
   "outputs": [
    {
     "name": "stdout",
     "output_type": "stream",
     "text": [
      "3 5 7 11 13 17 19 23 29 31 37 41 43 47 53 59 61 67 71 73 "
     ]
    }
   ],
   "source": [
    "a=100\n",
    "prime=[]\n",
    "for b in range (1,a+1):\n",
    "    if b >2 and len(prime)<=19:\n",
    "        for i in range(2,b):\n",
    "            if (b%i)==0:\n",
    "                break\n",
    "        else:\n",
    "            prime.append(b)\n",
    "for j in prime:\n",
    "    print(j,end=' ')"
   ]
  },
  {
   "cell_type": "markdown",
   "metadata": {},
   "source": [
    "Question 2 : Write a Python program to implement 15 functions of string."
   ]
  },
  {
   "cell_type": "code",
   "execution_count": 7,
   "metadata": {},
   "outputs": [
    {
     "name": "stdout",
     "output_type": "stream",
     "text": [
      "Hii iam sunil patil\n",
      "HII IAM SUNIL PATIL\n",
      "hii iam sunil patil\n"
     ]
    }
   ],
   "source": [
    "x='Hii iam sunil patil'\n",
    "\n",
    "caps=x.capitalize()\n",
    "upper=x.upper()\n",
    "lower=x.lower()\n",
    "\n",
    "print(caps)\n",
    "print(upper)\n",
    "print(lower)\n"
   ]
  }
 ],
 "metadata": {
  "kernelspec": {
   "display_name": "Python 3",
   "language": "python",
   "name": "python3"
  },
  "language_info": {
   "codemirror_mode": {
    "name": "ipython",
    "version": 3
   },
   "file_extension": ".py",
   "mimetype": "text/x-python",
   "name": "python",
   "nbconvert_exporter": "python",
   "pygments_lexer": "ipython3",
   "version": "3.7.6"
  }
 },
 "nbformat": 4,
 "nbformat_minor": 4
}
