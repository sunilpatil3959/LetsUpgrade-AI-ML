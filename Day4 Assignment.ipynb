{
 "cells": [
  {
   "cell_type": "markdown",
   "metadata": {},
   "source": [
    "Question 1 : Research on whether addition, subtraction, multiplication, division, floor division and modulooperations be performed on complex numbers. Based on your study, implement a Python program to demonstrate these operations."
   ]
  },
  {
   "cell_type": "code",
   "execution_count": 1,
   "metadata": {},
   "outputs": [
    {
     "name": "stdout",
     "output_type": "stream",
     "text": [
      "(13+8j)\n",
      "(5+6j)\n",
      "(2.5294117647058822+1.1176470588235294j)\n",
      "(29+37j)\n"
     ]
    }
   ],
   "source": [
    "x= 9+7j\n",
    "y= 4+1j\n",
    "print(x+y)\n",
    "print(x-y)\n",
    "print(x/y)\n",
    "print(x*y)\n",
    "# print(x//y)floor division is not possible on complex numbers\n",
    "# print(x%y) modulus cannot be perform on complex numbers"
   ]
  },
  {
   "cell_type": "markdown",
   "metadata": {},
   "source": [
    "Question 2 : Research on range() functions and its parameters. Create a markdown cell and write in your ownwords (no copy-paste from google please) what you understand about it. Implement a small program of your choice on the same\n",
    "\n",
    "1.The range() function performs a sequence of numbers by considering default value as 0.\n",
    "2.It starts from default value 0 till the assigned value.\n",
    "3.Step value can be given in the range function.\n",
    "4.range(start,end,step) is usual syntax in python where range returns the value from start to end by using step value.\n",
    "5.Step value by default will be 1"
   ]
  },
  {
   "cell_type": "code",
   "execution_count": 4,
   "metadata": {},
   "outputs": [
    {
     "name": "stdout",
     "output_type": "stream",
     "text": [
      "0\n",
      "1\n",
      "2\n",
      "3\n",
      "4\n",
      "5\n",
      "6\n",
      "7\n"
     ]
    }
   ],
   "source": [
    "a=8\n",
    "for i in range(a): #here by default range starts from o till a-1 by taking default step value of 1\n",
    "    print(i)"
   ]
  },
  {
   "cell_type": "code",
   "execution_count": 8,
   "metadata": {},
   "outputs": [
    {
     "name": "stdout",
     "output_type": "stream",
     "text": [
      "1\n",
      "4\n",
      "7\n"
     ]
    }
   ],
   "source": [
    "a=8\n",
    "for i in range(1,a,3): #here range starts from 1 till a-1 by taking step value of 3\n",
    "    print(i)"
   ]
  },
  {
   "cell_type": "markdown",
   "metadata": {},
   "source": [
    "Question 3 : Consider two numbers. Perform their subtraction and if the result of subtraction is greater than25, print their multiplication result else print their division result."
   ]
  },
  {
   "cell_type": "code",
   "execution_count": 13,
   "metadata": {},
   "outputs": [
    {
     "name": "stdout",
     "output_type": "stream",
     "text": [
      "since 37 is greather than 25 hence multiplication of 45 and 8 is:\n",
      "360\n"
     ]
    }
   ],
   "source": [
    "a=45\n",
    "b=8\n",
    "c=a-b\n",
    "if c >25:\n",
    "    print('since',c,'is greather than 25 hence multiplication of',a,'and',b,'is:')\n",
    "    print(a*b)\n",
    "else:\n",
    "    print('since',c,'is lesser than 25 hence division of',a,'and',b,'is:')\n",
    "    print(a/b)"
   ]
  },
  {
   "cell_type": "markdown",
   "metadata": {},
   "source": [
    "Question 4 : Consider a list of 10 elements of integer values. If the number in the list is divisible by 2, print theresult as \"square of that number minus 2\"\n",
    "\n"
   ]
  },
  {
   "cell_type": "code",
   "execution_count": 16,
   "metadata": {},
   "outputs": [
    {
     "name": "stdout",
     "output_type": "stream",
     "text": [
      "square of the number 2 minus 2 is: 2\n",
      "square of the number 8 minus 2 is: 62\n",
      "square of the number 12 minus 2 is: 142\n",
      "square of the number 26 minus 2 is: 674\n",
      "square of the number 46 minus 2 is: 2114\n",
      "square of the number 22 minus 2 is: 482\n",
      "square of the number 36 minus 2 is: 1294\n",
      "square of the number 44 minus 2 is: 1934\n",
      "square of the number 88 minus 2 is: 7742\n",
      "square of the number 100 minus 2 is: 9998\n"
     ]
    }
   ],
   "source": [
    "a= [2,8,12,26,46,22,36,44,88,100]\n",
    "for i in a:\n",
    "    if i%2==0:\n",
    "        print('square of the number',i,'minus 2 is:',i**2-2)"
   ]
  },
  {
   "cell_type": "markdown",
   "metadata": {},
   "source": [
    "Question 5 : Consider a list of 10 elements. Print all the elements in the list which are greater than 7 when that number is divided 2"
   ]
  },
  {
   "cell_type": "code",
   "execution_count": 19,
   "metadata": {},
   "outputs": [
    {
     "name": "stdout",
     "output_type": "stream",
     "text": [
      "12 16 14 32 10 22 "
     ]
    }
   ],
   "source": [
    "a= [12,25,4,16,14,32,9,10,17,22]\n",
    "for b in a:\n",
    "    if b > 7 and b%2==0:\n",
    "        print(b,end=\" \")"
   ]
  }
 ],
 "metadata": {
  "kernelspec": {
   "display_name": "Python 3",
   "language": "python",
   "name": "python3"
  },
  "language_info": {
   "codemirror_mode": {
    "name": "ipython",
    "version": 3
   },
   "file_extension": ".py",
   "mimetype": "text/x-python",
   "name": "python",
   "nbconvert_exporter": "python",
   "pygments_lexer": "ipython3",
   "version": "3.7.6"
  }
 },
 "nbformat": 4,
 "nbformat_minor": 4
}
